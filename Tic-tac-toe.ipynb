{
 "cells": [
  {
   "cell_type": "markdown",
   "id": "9ea82130",
   "metadata": {},
   "source": [
    "# Tic-tac-toe"
   ]
  },
  {
   "cell_type": "markdown",
   "id": "9f9ea016",
   "metadata": {},
   "source": [
    "## We are group 15"
   ]
  },
  {
   "cell_type": "markdown",
   "id": "c5fcad93",
   "metadata": {},
   "source": [
    "|Group member|\n",
    "|:--|\n",
    "|Zhenliang Hao|\n",
    "|Nguyen Thien Phuoc|\n",
    "|Le Minh Phuong|\n",
    "|Tran Thi Thanh Tuyen|\n",
    "|Soorya Rasandi Pitiduwa Gamage|"
   ]
  },
  {
   "cell_type": "markdown",
   "id": "5fac22b3",
   "metadata": {},
   "source": [
    "Tic-Tac-Toe is a simple but entertaining game that can be enjoyed by players of all ages. It is a great way to develop strategic thinking and problem-solving skills, and can be played almost anywhere with just a piece of paper and a pen or pencil."
   ]
  },
  {
   "cell_type": "markdown",
   "id": "3aef38b4",
   "metadata": {},
   "source": [
    "# Here is breakdown code"
   ]
  },
  {
   "cell_type": "markdown",
   "id": "31b50883",
   "metadata": {},
   "source": [
    "1. Initial global varibles"
   ]
  },
  {
   "cell_type": "code",
   "execution_count": 22,
   "id": "650913ca",
   "metadata": {},
   "outputs": [],
   "source": [
    "board =[\"1\",\"2\",\"3\",\"4\",\"5\",\"6\",\"7\",\"8\",\"9\"]\n",
    "player = \"X\"\n",
    "isRunning = True\n",
    "isMarked = False"
   ]
  },
  {
   "cell_type": "markdown",
   "id": "6962beee",
   "metadata": {},
   "source": [
    "2. The purpose is to visualization the board in the output, with 9 cell"
   ]
  },
  {
   "cell_type": "code",
   "execution_count": 23,
   "id": "24679889",
   "metadata": {},
   "outputs": [],
   "source": [
    "#Print the board to the console.\n",
    "def initVisualBoard():\n",
    "    # starting from\n",
    "    print(board[0]+\" | \"+board[1]+\" | \"+board[2])\n",
    "    print(\"----------\")\n",
    "    print(board[3]+\" | \"+board[4]+\" | \"+board[5])\n",
    "    print(\"----------\")\n",
    "    print(board[6]+\" | \"+board[7]+\" | \"+board[8])"
   ]
  },
  {
   "cell_type": "markdown",
   "id": "2c0b413f",
   "metadata": {},
   "source": [
    "3. This is where player choose their move, the input valid is between 1 - 9."
   ]
  },
  {
   "cell_type": "code",
   "execution_count": 24,
   "id": "99b29d54",
   "metadata": {},
   "outputs": [],
   "source": [
    "# Player will pick their move from function below:.\n",
    "def playerMove():\n",
    "    \n",
    "    print(\" \")\n",
    "    print(\"Current player:\", player)\n",
    "    print(\" \")\n",
    "    choice = int(input(\"Please pick your cell [1-9]: \"))\n",
    "    print(\" \")\n",
    "    \n",
    "    global isMarked\n",
    "    #Player choose the number that not between 1 - 9, will print the error.\n",
    "    if choice >=1 and choice <= 9 and board[choice-1].isnumeric():\n",
    "        board[choice-1] = player\n",
    "        isMarked = False\n",
    "    else:\n",
    "        print(\"The cell has been marked!\")\n",
    "        isMarked = True"
   ]
  },
  {
   "cell_type": "markdown",
   "id": "f5f4e834",
   "metadata": {},
   "source": [
    "4. This cell code contain all functiona that checking if player is whether Horizontal, Vertical, Crossing or it's a tie game. And an function to determine who is the winner."
   ]
  },
  {
   "cell_type": "code",
   "execution_count": 25,
   "id": "14632c07",
   "metadata": {},
   "outputs": [],
   "source": [
    "#Checking horizontal if either player have marked all their move.\n",
    "def checkHorizontal(board):\n",
    "    #Logical is each of horizontal have the same mark by player and not with default value\n",
    "    if board[0] == board[1] == board[2]:\n",
    "        winner = board[0]\n",
    "        return True\n",
    "    elif board[3] == board[4] == board[5]:\n",
    "        winner = board[3]\n",
    "        return True\n",
    "    elif board[6] == board[7] == board[8]:\n",
    "        winner = board[6]\n",
    "        return True\n",
    "\n",
    "#Checking vertical if either player have marked all their move.\n",
    "def checkVertical(board):\n",
    "     #Logical is each of vertical have the same mark by player and not with default value\n",
    "    if board[0] == board[3] == board[6]:\n",
    "        winner = board[0]\n",
    "        return True\n",
    "    elif board[1] == board[4] == board[7]:\n",
    "        winner = board[1]\n",
    "        return True\n",
    "    elif board[3] == board[5] == board[8]:\n",
    "        winner = board[3]\n",
    "        return True\n",
    "\n",
    "# X checking\n",
    "def checkCrossing(board):\n",
    "    if board[0] == board[4] == board[8]:\n",
    "        winner = board[0]\n",
    "        return True\n",
    "    elif board[2] == board[4] == board[6]:\n",
    "        winner = board[2]\n",
    "        return True\n",
    "\n",
    "#Checking tie\n",
    "def checkTie():\n",
    "    oriBoard = [\"1\", \"2\", \"3\", \"4\", \"5\", \"6\", \"7\", \"8\", \"9\"]\n",
    "    # Intersection help match 2 lists, if board list is completely filled with X and 0, then intersection will return an empty list.\n",
    "    if not bool(set(board).intersection(oriBoard)):\n",
    "        print(\"It's a tie.\")\n",
    "        initVisualBoard();\n",
    "        reset();\n",
    "        \n",
    "#Checking winner\n",
    "def checkWinner():\n",
    "    # in order for isRunning \n",
    "    global isRunning\n",
    "    if checkHorizontal(board) or checkVertical(board) or checkCrossing(board):\n",
    "        # Print the final mark.\n",
    "        initVisualBoard();\n",
    "        print(\"The winner is\",player)\n",
    "        choice = input(\"Play again? (y/n): \")\n",
    "        while choice != \"y\" or choice != \"n\":\n",
    "            choice = input(\"Play again? Please pick 'y' or 'n' only (y/n): \")\n",
    "            if choice == \"y\":\n",
    "                reset()\n",
    "            else:\n",
    "                isRunning = False;\n",
    "    "
   ]
  },
  {
   "cell_type": "markdown",
   "id": "2f89fc5e",
   "metadata": {},
   "source": [
    "5. Lastly is all functions to operator the game, including reset the game, player taking each turn, and a loop to keep the game running."
   ]
  },
  {
   "cell_type": "code",
   "execution_count": 26,
   "id": "95b6f135",
   "metadata": {},
   "outputs": [
    {
     "name": "stdout",
     "output_type": "stream",
     "text": [
      "1 | 2 | 3\n",
      "----------\n",
      "4 | 5 | 6\n",
      "----------\n",
      "7 | 8 | 9\n",
      " \n",
      "Current player: X\n",
      " \n",
      "Please pick your cell [1-9]: 1\n",
      " \n",
      "X | 2 | 3\n",
      "----------\n",
      "4 | 5 | 6\n",
      "----------\n",
      "7 | 8 | 9\n",
      " \n",
      "Current player: O\n",
      " \n",
      "Please pick your cell [1-9]: 4\n",
      " \n",
      "X | 2 | 3\n",
      "----------\n",
      "O | 5 | 6\n",
      "----------\n",
      "7 | 8 | 9\n",
      " \n",
      "Current player: X\n",
      " \n",
      "Please pick your cell [1-9]: 1\n",
      " \n",
      "The cell has been marked!\n",
      "X | 2 | 3\n",
      "----------\n",
      "O | 5 | 6\n",
      "----------\n",
      "7 | 8 | 9\n",
      " \n",
      "Current player: X\n",
      " \n",
      "Please pick your cell [1-9]: 2\n",
      " \n",
      "X | X | 3\n",
      "----------\n",
      "O | 5 | 6\n",
      "----------\n",
      "7 | 8 | 9\n",
      " \n",
      "Current player: O\n",
      " \n",
      "Please pick your cell [1-9]: 5\n",
      " \n",
      "X | X | 3\n",
      "----------\n",
      "O | O | 6\n",
      "----------\n",
      "7 | 8 | 9\n",
      " \n",
      "Current player: X\n",
      " \n",
      "Please pick your cell [1-9]: 1\n",
      " \n",
      "The cell has been marked!\n",
      "X | X | 3\n",
      "----------\n",
      "O | O | 6\n",
      "----------\n",
      "7 | 8 | 9\n",
      " \n",
      "Current player: X\n",
      " \n",
      "Please pick your cell [1-9]: 3\n",
      " \n",
      "X | X | X\n",
      "----------\n",
      "O | O | 6\n",
      "----------\n",
      "7 | 8 | 9\n",
      "The winner is X\n",
      "Play again? (y/n): f\n"
     ]
    },
    {
     "ename": "KeyboardInterrupt",
     "evalue": "Interrupted by user",
     "output_type": "error",
     "traceback": [
      "\u001b[0;31m---------------------------------------------------------------------------\u001b[0m",
      "\u001b[0;31mKeyboardInterrupt\u001b[0m                         Traceback (most recent call last)",
      "Cell \u001b[0;32mIn[26], line 21\u001b[0m\n\u001b[1;32m     19\u001b[0m initVisualBoard()\n\u001b[1;32m     20\u001b[0m playerMove()\n\u001b[0;32m---> 21\u001b[0m \u001b[43mcheckWinner\u001b[49m\u001b[43m(\u001b[49m\u001b[43m)\u001b[49m\n\u001b[1;32m     22\u001b[0m checkTie()\n\u001b[1;32m     23\u001b[0m switchPlayer()\n",
      "Cell \u001b[0;32mIn[25], line 55\u001b[0m, in \u001b[0;36mcheckWinner\u001b[0;34m()\u001b[0m\n\u001b[1;32m     53\u001b[0m choice \u001b[38;5;241m=\u001b[39m \u001b[38;5;28minput\u001b[39m(\u001b[38;5;124m\"\u001b[39m\u001b[38;5;124mPlay again? (y/n): \u001b[39m\u001b[38;5;124m\"\u001b[39m)\n\u001b[1;32m     54\u001b[0m \u001b[38;5;28;01mwhile\u001b[39;00m choice \u001b[38;5;241m!=\u001b[39m \u001b[38;5;124m\"\u001b[39m\u001b[38;5;124my\u001b[39m\u001b[38;5;124m\"\u001b[39m \u001b[38;5;129;01mor\u001b[39;00m choice \u001b[38;5;241m!=\u001b[39m \u001b[38;5;124m\"\u001b[39m\u001b[38;5;124mn\u001b[39m\u001b[38;5;124m\"\u001b[39m:\n\u001b[0;32m---> 55\u001b[0m     choice \u001b[38;5;241m=\u001b[39m \u001b[38;5;28;43minput\u001b[39;49m\u001b[43m(\u001b[49m\u001b[38;5;124;43m\"\u001b[39;49m\u001b[38;5;124;43mPlay again? Please pick \u001b[39;49m\u001b[38;5;124;43m'\u001b[39;49m\u001b[38;5;124;43my\u001b[39;49m\u001b[38;5;124;43m'\u001b[39;49m\u001b[38;5;124;43m or \u001b[39;49m\u001b[38;5;124;43m'\u001b[39;49m\u001b[38;5;124;43mn\u001b[39;49m\u001b[38;5;124;43m'\u001b[39;49m\u001b[38;5;124;43m only (y/n): \u001b[39;49m\u001b[38;5;124;43m\"\u001b[39;49m\u001b[43m)\u001b[49m\n\u001b[1;32m     56\u001b[0m     \u001b[38;5;28;01mif\u001b[39;00m choice \u001b[38;5;241m==\u001b[39m \u001b[38;5;124m\"\u001b[39m\u001b[38;5;124my\u001b[39m\u001b[38;5;124m\"\u001b[39m:\n\u001b[1;32m     57\u001b[0m         reset()\n",
      "File \u001b[0;32m/usr/local/lib/python3.10/site-packages/ipykernel/kernelbase.py:1182\u001b[0m, in \u001b[0;36mKernel.raw_input\u001b[0;34m(self, prompt)\u001b[0m\n\u001b[1;32m   1180\u001b[0m     msg \u001b[38;5;241m=\u001b[39m \u001b[38;5;124m\"\u001b[39m\u001b[38;5;124mraw_input was called, but this frontend does not support input requests.\u001b[39m\u001b[38;5;124m\"\u001b[39m\n\u001b[1;32m   1181\u001b[0m     \u001b[38;5;28;01mraise\u001b[39;00m StdinNotImplementedError(msg)\n\u001b[0;32m-> 1182\u001b[0m \u001b[38;5;28;01mreturn\u001b[39;00m \u001b[38;5;28;43mself\u001b[39;49m\u001b[38;5;241;43m.\u001b[39;49m\u001b[43m_input_request\u001b[49m\u001b[43m(\u001b[49m\n\u001b[1;32m   1183\u001b[0m \u001b[43m    \u001b[49m\u001b[38;5;28;43mstr\u001b[39;49m\u001b[43m(\u001b[49m\u001b[43mprompt\u001b[49m\u001b[43m)\u001b[49m\u001b[43m,\u001b[49m\n\u001b[1;32m   1184\u001b[0m \u001b[43m    \u001b[49m\u001b[38;5;28;43mself\u001b[39;49m\u001b[38;5;241;43m.\u001b[39;49m\u001b[43m_parent_ident\u001b[49m\u001b[43m[\u001b[49m\u001b[38;5;124;43m\"\u001b[39;49m\u001b[38;5;124;43mshell\u001b[39;49m\u001b[38;5;124;43m\"\u001b[39;49m\u001b[43m]\u001b[49m\u001b[43m,\u001b[49m\n\u001b[1;32m   1185\u001b[0m \u001b[43m    \u001b[49m\u001b[38;5;28;43mself\u001b[39;49m\u001b[38;5;241;43m.\u001b[39;49m\u001b[43mget_parent\u001b[49m\u001b[43m(\u001b[49m\u001b[38;5;124;43m\"\u001b[39;49m\u001b[38;5;124;43mshell\u001b[39;49m\u001b[38;5;124;43m\"\u001b[39;49m\u001b[43m)\u001b[49m\u001b[43m,\u001b[49m\n\u001b[1;32m   1186\u001b[0m \u001b[43m    \u001b[49m\u001b[43mpassword\u001b[49m\u001b[38;5;241;43m=\u001b[39;49m\u001b[38;5;28;43;01mFalse\u001b[39;49;00m\u001b[43m,\u001b[49m\n\u001b[1;32m   1187\u001b[0m \u001b[43m\u001b[49m\u001b[43m)\u001b[49m\n",
      "File \u001b[0;32m/usr/local/lib/python3.10/site-packages/ipykernel/kernelbase.py:1225\u001b[0m, in \u001b[0;36mKernel._input_request\u001b[0;34m(self, prompt, ident, parent, password)\u001b[0m\n\u001b[1;32m   1222\u001b[0m \u001b[38;5;28;01mexcept\u001b[39;00m \u001b[38;5;167;01mKeyboardInterrupt\u001b[39;00m:\n\u001b[1;32m   1223\u001b[0m     \u001b[38;5;66;03m# re-raise KeyboardInterrupt, to truncate traceback\u001b[39;00m\n\u001b[1;32m   1224\u001b[0m     msg \u001b[38;5;241m=\u001b[39m \u001b[38;5;124m\"\u001b[39m\u001b[38;5;124mInterrupted by user\u001b[39m\u001b[38;5;124m\"\u001b[39m\n\u001b[0;32m-> 1225\u001b[0m     \u001b[38;5;28;01mraise\u001b[39;00m \u001b[38;5;167;01mKeyboardInterrupt\u001b[39;00m(msg) \u001b[38;5;28;01mfrom\u001b[39;00m \u001b[38;5;28mNone\u001b[39m\n\u001b[1;32m   1226\u001b[0m \u001b[38;5;28;01mexcept\u001b[39;00m \u001b[38;5;167;01mException\u001b[39;00m:\n\u001b[1;32m   1227\u001b[0m     \u001b[38;5;28mself\u001b[39m\u001b[38;5;241m.\u001b[39mlog\u001b[38;5;241m.\u001b[39mwarning(\u001b[38;5;124m\"\u001b[39m\u001b[38;5;124mInvalid Message:\u001b[39m\u001b[38;5;124m\"\u001b[39m, exc_info\u001b[38;5;241m=\u001b[39m\u001b[38;5;28;01mTrue\u001b[39;00m)\n",
      "\u001b[0;31mKeyboardInterrupt\u001b[0m: Interrupted by user"
     ]
    }
   ],
   "source": [
    "#Restart the game.\n",
    "def reset():\n",
    "    global board\n",
    "    global player\n",
    "    board = [\"1\", \"2\", \"3\", \"4\", \"5\", \"6\", \"7\", \"8\", \"9\"]\n",
    "    player = \"X\"\n",
    "\n",
    "#Player taking turn.\n",
    "def switchPlayer():\n",
    "    global player\n",
    "    if not isMarked:\n",
    "        if player == \"X\":\n",
    "            player = \"O\"\n",
    "        else:\n",
    "            player = \"X\"\n",
    "        \n",
    "# Logical is while isRunning = true, the game keep running.\n",
    "while isRunning:\n",
    "    initVisualBoard()\n",
    "    playerMove()\n",
    "    checkWinner()\n",
    "    checkTie()\n",
    "    switchPlayer()"
   ]
  },
  {
   "cell_type": "code",
   "execution_count": null,
   "id": "bc0ec5af",
   "metadata": {},
   "outputs": [],
   "source": []
  },
  {
   "cell_type": "code",
   "execution_count": null,
   "id": "54d5f190",
   "metadata": {},
   "outputs": [],
   "source": [
    "\n"
   ]
  }
 ],
 "metadata": {
  "kernelspec": {
   "display_name": "Python 3 (ipykernel)",
   "language": "python",
   "name": "python3"
  },
  "language_info": {
   "codemirror_mode": {
    "name": "ipython",
    "version": 3
   },
   "file_extension": ".py",
   "mimetype": "text/x-python",
   "name": "python",
   "nbconvert_exporter": "python",
   "pygments_lexer": "ipython3",
   "version": "3.10.9"
  }
 },
 "nbformat": 4,
 "nbformat_minor": 5
}
