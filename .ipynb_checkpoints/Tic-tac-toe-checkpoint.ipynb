{
 "cells": [
  {
   "cell_type": "markdown",
   "id": "9ea82130",
   "metadata": {},
   "source": [
    "# Tic-tac-toe"
   ]
  },
  {
   "cell_type": "markdown",
   "id": "9f9ea016",
   "metadata": {},
   "source": [
    "## We are group 15"
   ]
  },
  {
   "cell_type": "markdown",
   "id": "c5fcad93",
   "metadata": {},
   "source": [
    "|Group member|\n",
    "|:--|\n",
    "|Zhenliang Hao|\n",
    "|Nguyen Thien Phuoc|\n",
    "|Le Minh Phuong|\n",
    "|Tran Thi Thanh Tuyen|\n",
    "|Soorya Rasandi Pitiduwa Gamage|"
   ]
  },
  {
   "cell_type": "markdown",
   "id": "5fac22b3",
   "metadata": {},
   "source": [
    "Tic-Tac-Toe is a simple but entertaining game that can be enjoyed by players of all ages. It is a great way to develop strategic thinking and problem-solving skills, and can be played almost anywhere with just a piece of paper and a pen or pencil."
   ]
  },
  {
   "cell_type": "markdown",
   "id": "3aef38b4",
   "metadata": {},
   "source": [
    "# Here is breakdown code"
   ]
  },
  {
   "cell_type": "markdown",
   "id": "31b50883",
   "metadata": {},
   "source": [
    "1. Initial global varibles"
   ]
  },
  {
   "cell_type": "code",
   "execution_count": 2,
   "id": "650913ca",
   "metadata": {},
   "outputs": [],
   "source": [
    "board =[\"1\",\"2\",\"3\",\"4\",\"5\",\"6\",\"7\",\"8\",\"9\"]\n",
    "player = \"X\"\n",
    "isRunning = True\n",
    "isMarked = False"
   ]
  },
  {
   "cell_type": "markdown",
   "id": "6962beee",
   "metadata": {},
   "source": [
    "2. The purpose is to visualization the board in the output, with 9 cell"
   ]
  },
  {
   "cell_type": "code",
   "execution_count": 3,
   "id": "24679889",
   "metadata": {},
   "outputs": [],
   "source": [
    "#Print the board to the console.\n",
    "def initVisualBoard():\n",
    "    # starting from\n",
    "    print(board[0]+\" | \"+board[1]+\" | \"+board[2])\n",
    "    print(\"----------\")\n",
    "    print(board[3]+\" | \"+board[4]+\" | \"+board[5])\n",
    "    print(\"----------\")\n",
    "    print(board[6]+\" | \"+board[7]+\" | \"+board[8])"
   ]
  },
  {
   "cell_type": "markdown",
   "id": "2c0b413f",
   "metadata": {},
   "source": [
    "3. This is where player choose their move, the input valid is between 1 - 9."
   ]
  },
  {
   "cell_type": "code",
   "execution_count": 4,
   "id": "99b29d54",
   "metadata": {},
   "outputs": [],
   "source": [
    "# Player will pick their move from function below:.\n",
    "def playerMove():\n",
    "    \n",
    "    print(\" \")\n",
    "    print(\"Current player:\", player)\n",
    "    print(\" \")\n",
    "    choice = int(input(\"Please pick your cell [1-9]: \"))\n",
    "    print(\" \")\n",
    "    \n",
    "    global isMarked\n",
    "    #Player choose the number that not between 1 - 9, will print the error.\n",
    "    if choice >=1 and choice <= 9 and board[choice-1].isnumeric():\n",
    "        board[choice-1] = player\n",
    "        isMarked = False\n",
    "    else:\n",
    "        print(\"The cell has been marked!\")\n",
    "        isMarked = True"
   ]
  },
  {
   "cell_type": "markdown",
   "id": "f5f4e834",
   "metadata": {},
   "source": [
    "4. This cell code contain all functiona that checking if player is whether Horizontal, Vertical, Crossing or it's a tie game. And an function to determine who is the winner."
   ]
  },
  {
   "cell_type": "code",
   "execution_count": 5,
   "id": "14632c07",
   "metadata": {},
   "outputs": [],
   "source": [
    "#Checking horizontal if either player have marked all their move.\n",
    "def checkHorizontal(board):\n",
    "    #Logical is each of horizontal have the same mark by player and not with default value\n",
    "    if board[0] == board[1] == board[2]:\n",
    "        winner = board[0]\n",
    "        return True\n",
    "    elif board[3] == board[4] == board[5]:\n",
    "        winner = board[3]\n",
    "        return True\n",
    "    elif board[6] == board[7] == board[8]:\n",
    "        winner = board[6]\n",
    "        return True\n",
    "\n",
    "#Checking vertical if either player have marked all their move.\n",
    "def checkVertical(board):\n",
    "     #Logical is each of vertical have the same mark by player and not with default value\n",
    "    if board[0] == board[3] == board[6]:\n",
    "        winner = board[0]\n",
    "        return True\n",
    "    elif board[1] == board[4] == board[7]:\n",
    "        winner = board[1]\n",
    "        return True\n",
    "    elif board[3] == board[5] == board[8]:\n",
    "        winner = board[3]\n",
    "        return True\n",
    "\n",
    "# X checking\n",
    "def checkDiagonal(board):\n",
    "    if board[0] == board[4] == board[8]:\n",
    "        winner = board[0]\n",
    "        return True\n",
    "    elif board[2] == board[4] == board[6]:\n",
    "        winner = board[2]\n",
    "        return True\n",
    "\n",
    "#Checking tie\n",
    "def checkTie():\n",
    "    oriBoard = [\"1\", \"2\", \"3\", \"4\", \"5\", \"6\", \"7\", \"8\", \"9\"]\n",
    "    # Intersection help match 2 lists, if board list is completely filled with X and 0, then intersection will return an empty list.\n",
    "    if not bool(set(board).intersection(oriBoard)):\n",
    "        print(\"It's a tie.\")\n",
    "        initVisualBoard();\n",
    "        reset();\n",
    "        \n",
    "#Checking winner\n",
    "def checkWinner():\n",
    "    # in order for isRunning \n",
    "    global isRunning\n",
    "    if checkHorizontal(board) or checkVertical(board) or checkDiagonal(board):\n",
    "        # Print the final mark.\n",
    "        initVisualBoard();\n",
    "        print(\"The winner is\",player)\n",
    "        choice = input(\"Play again? (y/n): \")\n",
    "        while choice != \"y\" or choice != \"n\":\n",
    "            choice = input(\"Play again? Please pick 'y' or 'n' only (y/n): \")\n",
    "            if choice == \"y\":\n",
    "                reset()\n",
    "            else:\n",
    "                isRunning = False;\n",
    "    "
   ]
  },
  {
   "cell_type": "markdown",
   "id": "2f89fc5e",
   "metadata": {},
   "source": [
    "5. Lastly is all functions to operator the game, including reset the game, player taking each turn, and a loop to keep the game running."
   ]
  },
  {
   "cell_type": "code",
   "execution_count": null,
   "id": "95b6f135",
   "metadata": {},
   "outputs": [
    {
     "name": "stdout",
     "output_type": "stream",
     "text": [
      "1 | 2 | 3\n",
      "----------\n",
      "4 | 5 | 6\n",
      "----------\n",
      "7 | 8 | 9\n",
      " \n",
      "Current player: X\n",
      " \n",
      "Please pick your cell [1-9]: 1\n",
      " \n",
      "X | 2 | 3\n",
      "----------\n",
      "4 | 5 | 6\n",
      "----------\n",
      "7 | 8 | 9\n",
      " \n",
      "Current player: O\n",
      " \n",
      "Please pick your cell [1-9]: 2\n",
      " \n",
      "X | O | 3\n",
      "----------\n",
      "4 | 5 | 6\n",
      "----------\n",
      "7 | 8 | 9\n",
      " \n",
      "Current player: X\n",
      " \n",
      "Please pick your cell [1-9]: 5\n",
      " \n",
      "X | O | 3\n",
      "----------\n",
      "4 | X | 6\n",
      "----------\n",
      "7 | 8 | 9\n",
      " \n",
      "Current player: O\n",
      " \n",
      "Please pick your cell [1-9]: 3\n",
      " \n",
      "X | O | O\n",
      "----------\n",
      "4 | X | 6\n",
      "----------\n",
      "7 | 8 | 9\n",
      " \n",
      "Current player: X\n",
      " \n",
      "Please pick your cell [1-9]: 9\n",
      " \n",
      "X | O | O\n",
      "----------\n",
      "4 | X | 6\n",
      "----------\n",
      "7 | 8 | X\n",
      "The winner is X\n"
     ]
    }
   ],
   "source": [
    "#Restart the game.\n",
    "def reset():\n",
    "    global board\n",
    "    global player\n",
    "    board = [\"1\", \"2\", \"3\", \"4\", \"5\", \"6\", \"7\", \"8\", \"9\"]\n",
    "    player = \"X\"\n",
    "\n",
    "#Player taking turn.\n",
    "def switchPlayer():\n",
    "    global player\n",
    "    if not isMarked:\n",
    "        if player == \"X\":\n",
    "            player = \"O\"\n",
    "        else:\n",
    "            player = \"X\"\n",
    "        \n",
    "# Logical is while isRunning = true, the game keep running.\n",
    "while isRunning:\n",
    "    initVisualBoard()\n",
    "    playerMove()\n",
    "    checkWinner()\n",
    "    checkTie()\n",
    "    switchPlayer()"
   ]
  },
  {
   "cell_type": "code",
   "execution_count": null,
   "id": "bc0ec5af",
   "metadata": {},
   "outputs": [],
   "source": []
  },
  {
   "cell_type": "code",
   "execution_count": null,
   "id": "54d5f190",
   "metadata": {},
   "outputs": [],
   "source": [
    "\n"
   ]
  }
 ],
 "metadata": {
  "kernelspec": {
   "display_name": "Python 3 (ipykernel)",
   "language": "python",
   "name": "python3"
  },
  "language_info": {
   "codemirror_mode": {
    "name": "ipython",
    "version": 3
   },
   "file_extension": ".py",
   "mimetype": "text/x-python",
   "name": "python",
   "nbconvert_exporter": "python",
   "pygments_lexer": "ipython3",
   "version": "3.10.9"
  }
 },
 "nbformat": 4,
 "nbformat_minor": 5
}
